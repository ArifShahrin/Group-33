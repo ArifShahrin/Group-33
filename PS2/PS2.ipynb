{
 "cells": [
  {
   "cell_type": "markdown",
   "id": "61993335",
   "metadata": {},
   "source": [
    "# Problem sheet 2 (Group 33)\n"
   ]
  },
  {
   "cell_type": "markdown",
   "id": "b304b974",
   "metadata": {},
   "source": [
    "## Setup stuff "
   ]
  },
  {
   "cell_type": "code",
   "execution_count": 1,
   "id": "3733bb95",
   "metadata": {},
   "outputs": [],
   "source": [
    "#set up stuff \n",
    "\n",
    "import pandas as pd\n",
    "import numpy as np\n",
    "import seaborn as sns\n",
    "import matplotlib.pyplot as plt\n",
    "\n",
    "def remove_outliers(df,lq=0,hq=1):\n",
    "    #df: Dataframe with only the variables to trim\n",
    "    # lq: lowest quantile. hq:Highest quantile\n",
    "    columns = pd.Series(df.columns.values).tolist()\n",
    "    for serie in columns:\n",
    "        df[\"houtliers_\"+serie] = df[serie].quantile(hq)\n",
    "        df[df[serie]>df[\"houtliers_\"+serie]] = np.nan\n",
    "        df[\"loutliers_\"+serie] = df[serie].quantile(lq)\n",
    "        df[df[serie]<df[\"loutliers_\"+serie]]= np.nan\n",
    "        del df[\"houtliers_\"+serie], df[\"loutliers_\"+serie]\n",
    "    return df\n",
    "\n",
    "\n",
    "def gini(array):\n",
    "    # from: https://github.com/oliviaguest/gini\n",
    "    #http://www.statsdirect.com/help/default.htm#nonparametric_methods/gini.htm \n",
    "    array = np.array(array)\n",
    "    array = array.flatten() #all values are treated equally, arrays must be 1d\n",
    "    if np.amin(array) < 0:\n",
    "        array += np.amin(array) #non-negative\n",
    "    array += 0.0000001 #non-0\n",
    "    array = np.sort(array) #values must be sorted\n",
    "    index = np.arange(1,array.shape[0]+1) \n",
    "    n = array.shape[0]\n",
    "    return ((np.sum((2 * index - n  - 1) * array)) / (n * np.sum(array))) \n",
    "\n",
    "\n",
    "def data_stats(data, percentiles=[0.01, 0.25, 0.5, 0.75, 0.99]):\n",
    "    ### Compute mean, sd, min, max, quintiles and Gini of the states in the state list.\n",
    "    # Inputs -----------------\n",
    "    # Dataframe\n",
    "    \n",
    "    #Obtain the describtive statistics for the state variables.    \n",
    "        \n",
    "    summary = data.describe(percentiles)\n",
    "    summary.reset_index(inplace=True)\n",
    "        \n",
    "    #Generate Gini statistic:\n",
    "    gini_stat = np.empty(len(data.columns)).reshape(1,len(data.columns))\n",
    "    \n",
    "    for i, var in enumerate(data.columns):\n",
    "        gini_stat[:,i] = gini(data[var].dropna())\n",
    "                \n",
    "    data_gini = pd.DataFrame(gini_stat, columns=data.columns)    \n",
    "    data_gini.reset_index(inplace=True)\n",
    "    data_gini['index'] = 'Gini'\n",
    "    summary = summary.append(data_gini, ignore_index=True)\n",
    "    summary.set_index('index', inplace=True)\n",
    "    \n",
    "    return summary\n",
    "\n",
    "\n",
    "def plot_cond_log_distr(data, variable1, variable2, save=False):\n",
    "        fig, ax = plt.subplots()\n",
    "        a = data[variable2].unique()\n",
    "        for value in a:           \n",
    "            sns.distplot((np.log(data.loc[data[variable2] == value][variable1]).replace([-np.inf, np.inf], np.nan)).dropna()-np.mean((np.log(data[variable1]).replace([-np.inf, np.inf], np.nan)).dropna()), label=variable2+str(value))\n",
    "           \n",
    "        plt.title('Distribution of '+variable1+' in Uganda')\n",
    "        plt.xlabel(variable1)\n",
    "        ax.legend()\n",
    "        \n",
    "        return plt.show()\n",
    "        \n",
    "def plot_cum_cond_log_distr(data, variable1, variable2, save=False):\n",
    "        fig, ax = plt.subplots()\n",
    "        a = data[variable2].unique()\n",
    "        for value in a:           \n",
    "            sns.distplot((np.log(data.loc[data[variable2] == value][variable1]).replace([-np.inf, np.inf], np.nan)).dropna()-np.mean((np.log(data[variable1]).replace([-np.inf, np.inf], np.nan)).dropna()), label=variable2+str(value), hist_kws=dict(cumulative=True),\n",
    "             kde_kws=dict(cumulative=True))\n",
    "        plt.title('Cumulative Distribution of '+variable1+' in Uganda')\n",
    "        plt.xlabel(variable1)\n",
    "        ax.legend()\n",
    "        return plt.show()       \n",
    "\n",
    "\n"
   ]
  },
  {
   "cell_type": "markdown",
   "id": "4ed254d5",
   "metadata": {},
   "source": [
    "## Exercise 1 \n",
    "1a) Are there duplicate households in the data? That is check if there are repeated observations in the unique household identifier variable (’hhid’). How many observations are there in the data?"
   ]
  },
  {
   "cell_type": "code",
   "execution_count": 12,
   "id": "2b1dc831",
   "metadata": {},
   "outputs": [
    {
     "name": "stdout",
     "output_type": "stream",
     "text": [
      "the number of duplicates is  0\n",
      "there are  2613 observations.\n"
     ]
    }
   ],
   "source": [
    "#import data\n",
    "df1 = pd.read_excel(\"UNPS_1112_PS2.xls\")\n",
    "\n",
    "#1a\n",
    "#count number of duplicates in column hhid \n",
    "print(\"the number of duplicates is \",df1.hhid.duplicated().sum() )\n",
    "\n",
    "print(\"there are \", len(df1[\"hhid\"]), \"observations.\")\n"
   ]
  },
  {
   "attachments": {},
   "cell_type": "markdown",
   "id": "79db31c1",
   "metadata": {},
   "source": [
    "### 1b) \n",
    "Present some basic summary statistics for the following variables: head_gender, head _age, familysize, consumption, income, wealth. Comment your results in 2 lines. In particular, you might mention if there are missing observations or potential outliers for some of the variables.\n",
    "\n",
    "- head_gender\tgender of the household head: 1 if male, 2 if female.\n",
    "- head_age\tage of the household head \n",
    "- consumption\ttotal household consumption (excluding durables). In 2013 dollars, adjusted for inflation.\n",
    "- income -total household income. In 2013 dollars, adjusted for inflation.\n",
    "- wealth - total household wealth. In 2013 dollars, adjusted for inflation.\n",
    "\n",
    "\n"
   ]
  },
  {
   "cell_type": "code",
   "execution_count": 13,
   "id": "dd1a699a",
   "metadata": {},
   "outputs": [
    {
     "data": {
      "text/html": [
       "<div>\n",
       "<style scoped>\n",
       "    .dataframe tbody tr th:only-of-type {\n",
       "        vertical-align: middle;\n",
       "    }\n",
       "\n",
       "    .dataframe tbody tr th {\n",
       "        vertical-align: top;\n",
       "    }\n",
       "\n",
       "    .dataframe thead th {\n",
       "        text-align: right;\n",
       "    }\n",
       "</style>\n",
       "<table border=\"1\" class=\"dataframe\">\n",
       "  <thead>\n",
       "    <tr style=\"text-align: right;\">\n",
       "      <th></th>\n",
       "      <th>head_gender</th>\n",
       "      <th>head_age</th>\n",
       "      <th>income</th>\n",
       "      <th>wealth</th>\n",
       "      <th>consumption</th>\n",
       "    </tr>\n",
       "  </thead>\n",
       "  <tbody>\n",
       "    <tr>\n",
       "      <th>count</th>\n",
       "      <td>2597.000000</td>\n",
       "      <td>2597.000000</td>\n",
       "      <td>2613.000000</td>\n",
       "      <td>2613.000000</td>\n",
       "      <td>2613.000000</td>\n",
       "    </tr>\n",
       "    <tr>\n",
       "      <th>mean</th>\n",
       "      <td>1.314209</td>\n",
       "      <td>46.068156</td>\n",
       "      <td>1860.075795</td>\n",
       "      <td>4912.698146</td>\n",
       "      <td>1803.792687</td>\n",
       "    </tr>\n",
       "    <tr>\n",
       "      <th>std</th>\n",
       "      <td>0.464289</td>\n",
       "      <td>15.068960</td>\n",
       "      <td>2607.517603</td>\n",
       "      <td>8359.886497</td>\n",
       "      <td>1308.742941</td>\n",
       "    </tr>\n",
       "    <tr>\n",
       "      <th>min</th>\n",
       "      <td>1.000000</td>\n",
       "      <td>14.000000</td>\n",
       "      <td>27.486921</td>\n",
       "      <td>0.000000</td>\n",
       "      <td>250.305506</td>\n",
       "    </tr>\n",
       "    <tr>\n",
       "      <th>25%</th>\n",
       "      <td>1.000000</td>\n",
       "      <td>34.000000</td>\n",
       "      <td>471.204368</td>\n",
       "      <td>720.019916</td>\n",
       "      <td>918.324958</td>\n",
       "    </tr>\n",
       "    <tr>\n",
       "      <th>50%</th>\n",
       "      <td>1.000000</td>\n",
       "      <td>44.000000</td>\n",
       "      <td>1061.194208</td>\n",
       "      <td>2108.598380</td>\n",
       "      <td>1426.614855</td>\n",
       "    </tr>\n",
       "    <tr>\n",
       "      <th>75%</th>\n",
       "      <td>2.000000</td>\n",
       "      <td>56.000000</td>\n",
       "      <td>2234.800590</td>\n",
       "      <td>5221.939857</td>\n",
       "      <td>2296.859516</td>\n",
       "    </tr>\n",
       "    <tr>\n",
       "      <th>max</th>\n",
       "      <td>2.000000</td>\n",
       "      <td>100.000000</td>\n",
       "      <td>52137.736864</td>\n",
       "      <td>76396.339917</td>\n",
       "      <td>8369.898484</td>\n",
       "    </tr>\n",
       "  </tbody>\n",
       "</table>\n",
       "</div>"
      ],
      "text/plain": [
       "       head_gender     head_age        income        wealth  consumption\n",
       "count  2597.000000  2597.000000   2613.000000   2613.000000  2613.000000\n",
       "mean      1.314209    46.068156   1860.075795   4912.698146  1803.792687\n",
       "std       0.464289    15.068960   2607.517603   8359.886497  1308.742941\n",
       "min       1.000000    14.000000     27.486921      0.000000   250.305506\n",
       "25%       1.000000    34.000000    471.204368    720.019916   918.324958\n",
       "50%       1.000000    44.000000   1061.194208   2108.598380  1426.614855\n",
       "75%       2.000000    56.000000   2234.800590   5221.939857  2296.859516\n",
       "max       2.000000   100.000000  52137.736864  76396.339917  8369.898484"
      ]
     },
     "execution_count": 13,
     "metadata": {},
     "output_type": "execute_result"
    }
   ],
   "source": [
    "#check columns\n",
    "#print(df1.keys())\n",
    "\n",
    "#summary statistics \n",
    "df1[['head_gender','head_age','income','wealth','consumption']].describe()"
   ]
  },
  {
   "cell_type": "code",
   "execution_count": 5,
   "id": "3bfaa615",
   "metadata": {},
   "outputs": [
    {
     "data": {
      "text/html": [
       "<div>\n",
       "<style scoped>\n",
       "    .dataframe tbody tr th:only-of-type {\n",
       "        vertical-align: middle;\n",
       "    }\n",
       "\n",
       "    .dataframe tbody tr th {\n",
       "        vertical-align: top;\n",
       "    }\n",
       "\n",
       "    .dataframe thead th {\n",
       "        text-align: right;\n",
       "    }\n",
       "</style>\n",
       "<table border=\"1\" class=\"dataframe\">\n",
       "  <thead>\n",
       "    <tr style=\"text-align: right;\">\n",
       "      <th></th>\n",
       "      <th>head_age</th>\n",
       "      <th>income</th>\n",
       "      <th>wealth</th>\n",
       "      <th>consumption</th>\n",
       "    </tr>\n",
       "    <tr>\n",
       "      <th>head_gender</th>\n",
       "      <th></th>\n",
       "      <th></th>\n",
       "      <th></th>\n",
       "      <th></th>\n",
       "    </tr>\n",
       "  </thead>\n",
       "  <tbody>\n",
       "    <tr>\n",
       "      <th>1.0</th>\n",
       "      <td>44.388546</td>\n",
       "      <td>2061.184846</td>\n",
       "      <td>5278.582949</td>\n",
       "      <td>1898.303754</td>\n",
       "    </tr>\n",
       "    <tr>\n",
       "      <th>2.0</th>\n",
       "      <td>49.734069</td>\n",
       "      <td>1417.438044</td>\n",
       "      <td>4072.893135</td>\n",
       "      <td>1593.261206</td>\n",
       "    </tr>\n",
       "  </tbody>\n",
       "</table>\n",
       "</div>"
      ],
      "text/plain": [
       "              head_age       income       wealth  consumption\n",
       "head_gender                                                  \n",
       "1.0          44.388546  2061.184846  5278.582949  1898.303754\n",
       "2.0          49.734069  1417.438044  4072.893135  1593.261206"
      ]
     },
     "execution_count": 5,
     "metadata": {},
     "output_type": "execute_result"
    }
   ],
   "source": [
    "#then do a grouby gender \n",
    "df1[['head_gender','head_age','income','wealth','consumption']].groupby(by='head_gender').mean()"
   ]
  },
  {
   "cell_type": "code",
   "execution_count": 29,
   "id": "f6ccc2e9",
   "metadata": {},
   "outputs": [
    {
     "name": "stdout",
     "output_type": "stream",
     "text": [
      "number of NA values\n",
      "head_gender    0\n",
      "head_age       0\n",
      "income         0\n",
      "wealth         0\n",
      "consumption    0\n",
      "dtype: int64\n",
      "\n",
      " number of outliers:\n",
      "for column: head_gender\n",
      "the number of outliers are 0 \n",
      "\n",
      "for column: head_age\n",
      "the number of outliers are 1 \n",
      "\n",
      "for column: income\n",
      "the number of outliers are 60 \n",
      "\n",
      "for column: wealth\n",
      "the number of outliers are 71 \n",
      "\n",
      "for column: consumption\n",
      "the number of outliers are 29 \n",
      "\n"
     ]
    }
   ],
   "source": [
    "#Checking for na values\n",
    "print('number of NA values')\n",
    "print(df1[['head_gender','head_age','income','wealth','consumption']].isna().sum())\n",
    "#from the observation there are null values for head_gender and head_age \n",
    "#for a more accurate representation of gender statistics we will remove the corresponding rows from the dataframe\n",
    "\n",
    "#drop rows with NaNs corresponding to the 2 above (for a more accurate representation of gender\n",
    "#  statistics we will remove the corresponding rows from the dataframe)\n",
    "\n",
    "\n",
    "df1.dropna(subset=['head_gender', 'head_age'], inplace=True)\n",
    "\n",
    "#check the number of outliers \n",
    "#we define an outlier to be an observation more than 3 s.d\n",
    "#from the mean \n",
    "print(\"\\n\", 'number of outliers:')\n",
    "col = ['head_gender','head_age','income','wealth','consumption']\n",
    "for i in col:\n",
    "    mean = df1[i].mean()\n",
    "    sd = df1[i].std()\n",
    "    outlier = df1[i] > mean+(3*sd) \n",
    "    sum_outliers = outlier.sum()\n",
    "    \n",
    "    print('for column: {}'.format(i))\n",
    "    print(\"the number of outliers are\", sum_outliers, \"\\n\")\n",
    "    \n",
    "\n"
   ]
  },
  {
   "cell_type": "code",
   "execution_count": 16,
   "id": "21eda55d",
   "metadata": {},
   "outputs": [],
   "source": [
    "#we can also clean the dataframe of possible outliers \n",
    "#remove outliers that lie more \n",
    "#than 3 standard deviations away from the mean\n",
    "\n",
    "col = ['head_age','income','wealth','consumption']\n",
    "for i in col:\n",
    "    mean = df1[i].mean()\n",
    "    sd = df1[i].std()\n",
    "    df1 = df1[(df1[i] <= mean+(3*sd))] \n",
    "    \n",
    "# #this returns a dataframe with the outliers removed\n",
    "\n",
    "#instead we use albert's function to remove outliers\n"
   ]
  },
  {
   "cell_type": "code",
   "execution_count": 17,
   "id": "ee4f1935",
   "metadata": {},
   "outputs": [
    {
     "data": {
      "text/html": [
       "<div>\n",
       "<style scoped>\n",
       "    .dataframe tbody tr th:only-of-type {\n",
       "        vertical-align: middle;\n",
       "    }\n",
       "\n",
       "    .dataframe tbody tr th {\n",
       "        vertical-align: top;\n",
       "    }\n",
       "\n",
       "    .dataframe thead th {\n",
       "        text-align: right;\n",
       "    }\n",
       "</style>\n",
       "<table border=\"1\" class=\"dataframe\">\n",
       "  <thead>\n",
       "    <tr style=\"text-align: right;\">\n",
       "      <th></th>\n",
       "      <th>head_age</th>\n",
       "      <th>income</th>\n",
       "      <th>wealth</th>\n",
       "      <th>consumption</th>\n",
       "    </tr>\n",
       "    <tr>\n",
       "      <th>head_gender</th>\n",
       "      <th></th>\n",
       "      <th></th>\n",
       "      <th></th>\n",
       "      <th></th>\n",
       "    </tr>\n",
       "  </thead>\n",
       "  <tbody>\n",
       "    <tr>\n",
       "      <th>1.0</th>\n",
       "      <td>44.144753</td>\n",
       "      <td>1667.008449</td>\n",
       "      <td>3916.227601</td>\n",
       "      <td>1703.251272</td>\n",
       "    </tr>\n",
       "    <tr>\n",
       "      <th>2.0</th>\n",
       "      <td>49.414286</td>\n",
       "      <td>1205.710597</td>\n",
       "      <td>2924.827617</td>\n",
       "      <td>1445.140776</td>\n",
       "    </tr>\n",
       "  </tbody>\n",
       "</table>\n",
       "</div>"
      ],
      "text/plain": [
       "              head_age       income       wealth  consumption\n",
       "head_gender                                                  \n",
       "1.0          44.144753  1667.008449  3916.227601  1703.251272\n",
       "2.0          49.414286  1205.710597  2924.827617  1445.140776"
      ]
     },
     "execution_count": 17,
     "metadata": {},
     "output_type": "execute_result"
    }
   ],
   "source": [
    "#after cleaning we apply the previous summary statisitcs:\n",
    "\n",
    "df1[['head_gender','head_age','income','wealth','consumption']].groupby(by='head_gender').mean()"
   ]
  },
  {
   "attachments": {},
   "cell_type": "markdown",
   "id": "50036d0c",
   "metadata": {},
   "source": []
  },
  {
   "cell_type": "markdown",
   "id": "e1a848be",
   "metadata": {},
   "source": [
    "### 1c\n",
    "\n",
    "Using the head_gender variable, create a dummy variable for household head being female (1=female, 0=male). Be careful with missing values. What is the proportion of households where the head is female?"
   ]
  },
  {
   "cell_type": "code",
   "execution_count": 11,
   "id": "2de584dd",
   "metadata": {},
   "outputs": [
    {
     "data": {
      "text/html": [
       "<div>\n",
       "<style scoped>\n",
       "    .dataframe tbody tr th:only-of-type {\n",
       "        vertical-align: middle;\n",
       "    }\n",
       "\n",
       "    .dataframe tbody tr th {\n",
       "        vertical-align: top;\n",
       "    }\n",
       "\n",
       "    .dataframe thead th {\n",
       "        text-align: right;\n",
       "    }\n",
       "</style>\n",
       "<table border=\"1\" class=\"dataframe\">\n",
       "  <thead>\n",
       "    <tr style=\"text-align: right;\">\n",
       "      <th></th>\n",
       "      <th>head_age</th>\n",
       "      <th>income</th>\n",
       "      <th>wealth</th>\n",
       "      <th>consumption</th>\n",
       "    </tr>\n",
       "    <tr>\n",
       "      <th>head_gender</th>\n",
       "      <th></th>\n",
       "      <th></th>\n",
       "      <th></th>\n",
       "      <th></th>\n",
       "    </tr>\n",
       "  </thead>\n",
       "  <tbody>\n",
       "    <tr>\n",
       "      <th>1.0</th>\n",
       "      <td>44.144753</td>\n",
       "      <td>1667.008449</td>\n",
       "      <td>3916.227601</td>\n",
       "      <td>1703.251272</td>\n",
       "    </tr>\n",
       "    <tr>\n",
       "      <th>2.0</th>\n",
       "      <td>49.414286</td>\n",
       "      <td>1205.710597</td>\n",
       "      <td>2924.827617</td>\n",
       "      <td>1445.140776</td>\n",
       "    </tr>\n",
       "  </tbody>\n",
       "</table>\n",
       "</div>"
      ],
      "text/plain": [
       "              head_age       income       wealth  consumption\n",
       "head_gender                                                  \n",
       "1.0          44.144753  1667.008449  3916.227601  1703.251272\n",
       "2.0          49.414286  1205.710597  2924.827617  1445.140776"
      ]
     },
     "execution_count": 11,
     "metadata": {},
     "output_type": "execute_result"
    }
   ],
   "source": [
    "df1[['head_gender','head_age','income','wealth','consumption']].groupby(by='head_gender').mean()"
   ]
  },
  {
   "cell_type": "code",
   "execution_count": 19,
   "id": "02495973",
   "metadata": {},
   "outputs": [
    {
     "name": "stdout",
     "output_type": "stream",
     "text": [
      "proportion of females = 2.0    0.317133\n",
      "dtype: float64\n",
      "proportion of females = 2.0    0.317133\n",
      "dtype: float64\n"
     ]
    }
   ],
   "source": [
    "#previously we have removed missing values from the \n",
    "#data frame\n",
    "\n",
    "#generate female dummy variable column , the output \n",
    "\n",
    "female = pd.get_dummies(df1['head_gender'])\n",
    "\n",
    "# remove column corresponding to male == 1 \n",
    "female = female.drop([1.0],axis = 1) \n",
    "\n",
    "\n",
    "proportion = female.mean()\n",
    "print('proportion of females =', proportion) \n",
    "\n",
    "#rename column 2.0 to female and concatate to df1\n",
    "female.rename(columns={2.0:'female'}, inplace=True)\n",
    "df1 = pd.concat([df1, female], axis=1)\n"
   ]
  },
  {
   "attachments": {},
   "cell_type": "markdown",
   "id": "2627c977",
   "metadata": {},
   "source": [
    "### 1d \n",
    "\n",
    "\n",
    "head_age\tincome\twealth\tconsumption\n",
    "head_gender\t\t\t\t\n",
    "1.0\t44.388546\t2061.184846\t5278.582949\t1898.303754\n",
    "2.0\t49.734069\t1417.438044\t4072.893135\t1593.261206\n",
    "Both male and female lead households had similar consumption levels, with male lead households slightly higher. There was a larger discrepancy in wealth, as male lead households had an average wealth of $1,200 more. Male households also had higher average income, though to a lesser extent than wealth. On average, female household leaders were 5 years older than male ones."
   ]
  },
  {
   "cell_type": "code",
   "execution_count": 20,
   "id": "debb1da6",
   "metadata": {},
   "outputs": [
    {
     "data": {
      "text/html": [
       "<div>\n",
       "<style scoped>\n",
       "    .dataframe tbody tr th:only-of-type {\n",
       "        vertical-align: middle;\n",
       "    }\n",
       "\n",
       "    .dataframe tbody tr th {\n",
       "        vertical-align: top;\n",
       "    }\n",
       "\n",
       "    .dataframe thead th {\n",
       "        text-align: right;\n",
       "    }\n",
       "</style>\n",
       "<table border=\"1\" class=\"dataframe\">\n",
       "  <thead>\n",
       "    <tr style=\"text-align: right;\">\n",
       "      <th></th>\n",
       "      <th>head_age</th>\n",
       "      <th>income</th>\n",
       "      <th>wealth</th>\n",
       "      <th>consumption</th>\n",
       "    </tr>\n",
       "    <tr>\n",
       "      <th>head_gender</th>\n",
       "      <th></th>\n",
       "      <th></th>\n",
       "      <th></th>\n",
       "      <th></th>\n",
       "    </tr>\n",
       "  </thead>\n",
       "  <tbody>\n",
       "    <tr>\n",
       "      <th>1.0</th>\n",
       "      <td>44.144753</td>\n",
       "      <td>1667.008449</td>\n",
       "      <td>3916.227601</td>\n",
       "      <td>1703.251272</td>\n",
       "    </tr>\n",
       "    <tr>\n",
       "      <th>2.0</th>\n",
       "      <td>49.414286</td>\n",
       "      <td>1205.710597</td>\n",
       "      <td>2924.827617</td>\n",
       "      <td>1445.140776</td>\n",
       "    </tr>\n",
       "  </tbody>\n",
       "</table>\n",
       "</div>"
      ],
      "text/plain": [
       "              head_age       income       wealth  consumption\n",
       "head_gender                                                  \n",
       "1.0          44.144753  1667.008449  3916.227601  1703.251272\n",
       "2.0          49.414286  1205.710597  2924.827617  1445.140776"
      ]
     },
     "execution_count": 20,
     "metadata": {},
     "output_type": "execute_result"
    }
   ],
   "source": [
    "\n",
    "df1[['head_gender','head_age','income','wealth','consumption']].groupby(by='head_gender').mean()\n"
   ]
  },
  {
   "cell_type": "code",
   "execution_count": 36,
   "id": "ce953219",
   "metadata": {},
   "outputs": [
    {
     "name": "stdout",
     "output_type": "stream",
     "text": [
      "number of NAs in [i] 0\n",
      "Number of zeros in [i]:  0 \n",
      "\n",
      "number of NAs in [i] 0\n",
      "Number of zeros in [i]:  0 \n",
      "\n",
      "number of NAs in [i] 0\n",
      "Number of zeros in [i]:  9 \n",
      "\n"
     ]
    }
   ],
   "source": [
    "# Exercise 2\n",
    "\n",
    "l1 = ['consumption','income','wealth']\n",
    "#checking NAs and zeros in wealth \n",
    "for i in l1:\n",
    "    print(\"number of NAs in [i]\",df1[i].isna().sum())\n",
    "    num_zeros = (df1[i] == 0).sum()\n",
    "    print(\"Number of zeros in [i]: \", num_zeros, \"\\n\")\n",
    "\n",
    "#to avoid infinity values when we log, we will \n",
    "\n",
    "#remove rows with zeros in wealth column so there are no infinity values \n",
    "df1 = df1[df1[\"wealth\"] != 0]"
   ]
  },
  {
   "cell_type": "code",
   "execution_count": 37,
   "id": "b14dbffa",
   "metadata": {},
   "outputs": [
    {
     "name": "stderr",
     "output_type": "stream",
     "text": [
      "c:\\Users\\arifs\\anaconda3\\lib\\site-packages\\seaborn\\distributions.py:2619: FutureWarning: `distplot` is a deprecated function and will be removed in a future version. Please adapt your code to use either `displot` (a figure-level function with similar flexibility) or `histplot` (an axes-level function for histograms).\n",
      "  warnings.warn(msg, FutureWarning)\n",
      "c:\\Users\\arifs\\anaconda3\\lib\\site-packages\\seaborn\\distributions.py:2619: FutureWarning: `distplot` is a deprecated function and will be removed in a future version. Please adapt your code to use either `displot` (a figure-level function with similar flexibility) or `histplot` (an axes-level function for histograms).\n",
      "  warnings.warn(msg, FutureWarning)\n"
     ]
    },
    {
     "data": {
      "image/png": "[encoded data removed]",
      "text/plain": [
       "<Figure size 640x480 with 1 Axes>"
      ]
     },
     "metadata": {},
     "output_type": "display_data"
    }
   ],
   "source": [
    "import seaborn as sns \n",
    "\n",
    "#define variables \n",
    "log_c = np.log(df1[['consumption']]) #\n",
    "log_inc = np.log(df1[['income']]) #\n",
    "log_w = np.log(df1[['wealth']])\n",
    "\n",
    "\n",
    "\n",
    "\n",
    "#plotting\n",
    "fig, ax = plt.subplots()\n",
    "sns.distplot(log_c, label='log_c')\n",
    "sns.distplot(log_inc, label='log_inc')\n",
    "plt.title('Distribution of log_c and log_inc')\n",
    "ax.legend()\n",
    "plt.xlabel('log($)')\n",
    "plt.show()\n"
   ]
  },
  {
   "attachments": {},
   "cell_type": "markdown",
   "id": "e6050a46",
   "metadata": {},
   "source": [
    "### 2a \n",
    "\n",
    "#The distributions resemble normal distribution \n",
    "#log_inc is more evenly distributed due to shape of the graph being flatter"
   ]
  },
  {
   "attachments": {},
   "cell_type": "markdown",
   "id": "4df01723",
   "metadata": {},
   "source": [
    "### 2b\n",
    "\n",
    "A commonly used statistic to measure inequality is the variance of the logs. Compute the variance of the log of consumption, of the log of income, and of the log of wealth. How do these measures of inequality in Uganda compare to the same measures of inequality in the United States? Use table 3, column 5–PSID in De Magalhães, L., & Santaeulàlia-Llopis, R. (2018) for the comparison.\n",
    "\n"
   ]
  },
  {
   "cell_type": "code",
   "execution_count": 38,
   "id": "889c6813",
   "metadata": {},
   "outputs": [
    {
     "name": "stdout",
     "output_type": "stream",
     "text": [
      "number of NAs in wealth 0\n",
      "Number of zeros in wealth:  0\n"
     ]
    }
   ],
   "source": []
  },
  {
   "cell_type": "code",
   "execution_count": 39,
   "id": "70b61240",
   "metadata": {},
   "outputs": [
    {
     "name": "stdout",
     "output_type": "stream",
     "text": [
      "[consumption    0.385102\n",
      "dtype: float64, income    1.200195\n",
      "dtype: float64, wealth    2.402457\n",
      "dtype: float64]\n"
     ]
    }
   ],
   "source": [
    "#variance\n",
    "l1 = [log_c,log_inc,log_w]\n",
    "vars = []\n",
    "\n",
    "\n",
    "for i in l1:\n",
    "    vars.append(i.var())\n",
    "    \n",
    "print(vars)"
   ]
  }
 ],
 "metadata": {
  "kernelspec": {
   "display_name": "base",
   "language": "python",
   "name": "python3"
  },
  "language_info": {
   "codemirror_mode": {
    "name": "ipython",
    "version": 3
   },
   "file_extension": ".py",
   "mimetype": "text/x-python",
   "name": "python",
   "nbconvert_exporter": "python",
   "pygments_lexer": "ipython3",
   "version": "3.9.13"
  },
  "vscode": {
   "interpreter": {
    "hash": "2dadd1bb6929400642734456e6445596e47774cd9547c8ecb58fdc1393f972c0"
   }
  }
 },
 "nbformat": 4,
 "nbformat_minor": 5
}
