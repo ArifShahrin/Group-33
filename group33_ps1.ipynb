{
 "cells": [
  {
   "cell_type": "markdown",
   "id": "ca182f5d",
   "metadata": {},
   "source": [
    "# EXERCISE 1"
   ]
  },
  {
   "cell_type": "code",
   "execution_count": 57,
   "id": "174ada1f",
   "metadata": {},
   "outputs": [],
   "source": [
    "l1 = [2, 5, 6, 4, 5 ,9, 3, 2, 2]"
   ]
  },
  {
   "cell_type": "code",
   "execution_count": 58,
   "id": "04d47089",
   "metadata": {},
   "outputs": [
    {
     "name": "stdout",
     "output_type": "stream",
     "text": [
      "[2, 5, 6]\n",
      "[2, 2]\n"
     ]
    }
   ],
   "source": [
    "import numpy as np \n",
    "#part a1\n",
    "print(l1[:3])\n",
    "#part a2\n",
    "print(l1[-2:])"
   ]
  },
  {
   "cell_type": "code",
   "execution_count": 59,
   "id": "ca197e35",
   "metadata": {},
   "outputs": [
    {
     "name": "stdout",
     "output_type": "stream",
     "text": [
      "[2, 5, 4, 4, 5, 9, 7, 2, 2]\n"
     ]
    }
   ],
   "source": [
    "#part b\n",
    "l1[2]=4\n",
    "l1[6]=7\n",
    "print(l1)"
   ]
  },
  {
   "cell_type": "code",
   "execution_count": 60,
   "id": "40107c5a",
   "metadata": {},
   "outputs": [
    {
     "name": "stdout",
     "output_type": "stream",
     "text": [
      "[2, 5, 4, 4, 5, 8, 7, 2, 2]\n"
     ]
    }
   ],
   "source": [
    "#part c\n",
    "l1[l1.index(9)] = 8\n",
    "print(l1)"
   ]
  },
  {
   "cell_type": "code",
   "execution_count": 61,
   "id": "caba94d5",
   "metadata": {},
   "outputs": [],
   "source": [
    "#part d\n",
    "import numpy as np\n",
    "l1_2 = [2,5,6,4,5,9,3,2,2] #create a copy of l1"
   ]
  },
  {
   "cell_type": "code",
   "execution_count": 62,
   "id": "09019021",
   "metadata": {},
   "outputs": [
    {
     "name": "stdout",
     "output_type": "stream",
     "text": [
      "[2, 5, 6, 4, 5, 8, 3, 2, 2]\n"
     ]
    }
   ],
   "source": [
    "#part d cont.\n",
    "l1_2[np.argmax(l1_2)] = 8\n",
    "print(l1_2)"
   ]
  },
  {
   "cell_type": "markdown",
   "id": "d373d085",
   "metadata": {},
   "source": [
    "# EXERCISE 2"
   ]
  },
  {
   "cell_type": "code",
   "execution_count": 63,
   "id": "9e40a3ae",
   "metadata": {},
   "outputs": [
    {
     "name": "stdout",
     "output_type": "stream",
     "text": [
      "Matrix A:\n",
      "[[2 5 6]\n",
      " [4 5 9]\n",
      " [3 2 2]]\n"
     ]
    }
   ],
   "source": [
    "\n",
    "l1 = [2, 5, 6, 4, 5 ,9, 3, 2, 2]\n",
    "A = np.reshape(l1,(3,3))\n",
    "print(\"Matrix A:\")\n",
    "print(A)"
   ]
  },
  {
   "cell_type": "code",
   "execution_count": 64,
   "id": "6c165eed",
   "metadata": {
    "scrolled": true
   },
   "outputs": [
    {
     "name": "stdout",
     "output_type": "stream",
     "text": [
      "9\n",
      "(1, 2)\n"
     ]
    }
   ],
   "source": [
    "#b\n",
    "print(A.max())\n",
    "ind = np.unravel_index(np.argmax(A, axis=None), A.shape)\n",
    "\n",
    "# indexing according to python (from zero)\n",
    "print(ind)"
   ]
  },
  {
   "cell_type": "code",
   "execution_count": 65,
   "id": "bc2d4d38",
   "metadata": {},
   "outputs": [
    {
     "name": "stdout",
     "output_type": "stream",
     "text": [
      "[[2 4 3]\n",
      " [5 5 2]\n",
      " [6 9 2]]\n"
     ]
    }
   ],
   "source": [
    "#c\n",
    "print(A.T)"
   ]
  },
  {
   "cell_type": "code",
   "execution_count": 66,
   "id": "afe8dd26",
   "metadata": {},
   "outputs": [
    {
     "name": "stdout",
     "output_type": "stream",
     "text": [
      "[[ 65  87  28]\n",
      " [ 87 122  40]\n",
      " [ 28  40  17]]\n"
     ]
    }
   ],
   "source": [
    "#d \n",
    "print(A @ A.T)"
   ]
  },
  {
   "cell_type": "code",
   "execution_count": 67,
   "id": "7136b8b7",
   "metadata": {},
   "outputs": [
    {
     "name": "stdout",
     "output_type": "stream",
     "text": [
      "E-value: [11.93968476+0.j         -1.46984238+0.96874799j -1.46984238-0.96874799j]\n"
     ]
    }
   ],
   "source": [
    "#e \n",
    "w,v=np.linalg.eig(A)\n",
    "print('E-value:', w)\n",
    "#print('E-vector', v)"
   ]
  },
  {
   "cell_type": "code",
   "execution_count": 68,
   "id": "de27dd91",
   "metadata": {},
   "outputs": [
    {
     "name": "stdout",
     "output_type": "stream",
     "text": [
      "Zero Matrix\n",
      "[[0. 0. 0.]\n",
      " [0. 0. 0.]\n",
      " [0. 0. 0.]]\n",
      "Identity Matrix\n",
      "[[2. 5. 6.]\n",
      " [4. 5. 9.]\n",
      " [3. 2. 2.]]\n",
      "Matrix of Ones\n",
      "[[13. 13. 13.]\n",
      " [18. 18. 18.]\n",
      " [ 7.  7.  7.]]\n"
     ]
    }
   ],
   "source": [
    "#f\n",
    "f1 = A @ np.zeros((3,3))\n",
    "f2 = A @ np.identity(3)\n",
    "f3 = A @ np.ones((3,3))\n",
    "\n",
    "l2_names = [\"Zero Matrix\", f1, \"Identity Matrix\", f2, \"Matrix of Ones\", f3]\n",
    "\n",
    "#Products\n",
    "\n",
    "for i in range(0,6):\n",
    "    print(l2_names[i])\n",
    "    "
   ]
  },
  {
   "cell_type": "code",
   "execution_count": 69,
   "id": "33936a7f",
   "metadata": {},
   "outputs": [
    {
     "name": "stdout",
     "output_type": "stream",
     "text": [
      "[[ 57.375  72.     86.625]\n",
      " [ 77.625  97.875 118.125]\n",
      " [ 20.25   28.125  36.   ]]\n"
     ]
    }
   ],
   "source": [
    "#g\n",
    "grid = np.linspace(0,9,9)\n",
    "B = grid.reshape((3, 3))\n",
    "\n",
    "print(A @ B)\n"
   ]
  },
  {
   "cell_type": "markdown",
   "id": "95ce4e8d",
   "metadata": {},
   "source": [
    "# EXERCISE 3"
   ]
  },
  {
   "cell_type": "code",
   "execution_count": 70,
   "id": "b4b03957",
   "metadata": {},
   "outputs": [
    {
     "name": "stdout",
     "output_type": "stream",
     "text": [
      "iteration [1]\n",
      "1\n",
      "iteration [2]\n",
      "3\n",
      "iteration [3]\n",
      "5\n",
      "iteration [4]\n",
      "7\n",
      "iteration [5]\n",
      "9\n",
      "iteration [6]\n",
      "11\n",
      "iteration [7]\n",
      "13\n",
      "iteration [8]\n",
      "15\n",
      "iteration [9]\n",
      "17\n",
      "iteration [10]\n",
      "19\n",
      " \n",
      " in list form the sums are:\n",
      "[1, 3, 5, 7, 9, 11, 13, 15, 17, 19]\n"
     ]
    }
   ],
   "source": [
    "# we assume that iterate first 10 numbers is 1 to 10 \n",
    "\n",
    "numbers = []\n",
    "sums = []\n",
    "for i in range(1,11):\n",
    "    \n",
    "    print(\"iteration\", [i])\n",
    "    numbers.append(i)\n",
    "    #sum of current and previous number\n",
    "    print( i + (i-1)) \n",
    "    sums.append(i + (i-1))\n",
    "\n",
    "   \n",
    "#print(numbers)\n",
    "print(\" \\n\",\"in list form the sums are:\")\n",
    "print(sums)\n",
    "        "
   ]
  },
  {
   "cell_type": "markdown",
   "id": "23df24cf",
   "metadata": {},
   "source": [
    "# EXERCISE 4"
   ]
  },
  {
   "cell_type": "code",
   "execution_count": 71,
   "id": "268dae92",
   "metadata": {},
   "outputs": [],
   "source": [
    "l1 = [2, 5, 6, 4, 5 ,9, 3, 2, 2]"
   ]
  },
  {
   "cell_type": "code",
   "execution_count": 72,
   "id": "69671608",
   "metadata": {},
   "outputs": [
    {
     "name": "stdout",
     "output_type": "stream",
     "text": [
      "[2, 4, 3, 2, 2]\n"
     ]
    }
   ],
   "source": [
    "#a\n",
    "lex4 = []\n",
    "for x in l1:\n",
    "    if x < 5:\n",
    "        lex4.append(x)\n",
    "\n",
    "print(lex4)"
   ]
  },
  {
   "cell_type": "code",
   "execution_count": 73,
   "id": "98262b1c",
   "metadata": {},
   "outputs": [
    {
     "name": "stdout",
     "output_type": "stream",
     "text": [
      "[5, 6, 4, 5, 3]\n"
     ]
    }
   ],
   "source": [
    "#b\n",
    "lex4_2 = []\n",
    "for x in l1:\n",
    "    if x >= 3 and x < 7:\n",
    "        lex4_2.append(x)\n",
    "        \n",
    "print(lex4_2)        "
   ]
  },
  {
   "cell_type": "code",
   "execution_count": 74,
   "id": "3604f9c0",
   "metadata": {},
   "outputs": [
    {
     "name": "stdout",
     "output_type": "stream",
     "text": [
      "[[2 5 6]\n",
      " [4 5 9]\n",
      " [3 2 2]]\n"
     ]
    }
   ],
   "source": [
    "print(A)"
   ]
  },
  {
   "cell_type": "code",
   "execution_count": 75,
   "id": "7e62553c",
   "metadata": {},
   "outputs": [
    {
     "name": "stdout",
     "output_type": "stream",
     "text": [
      "True\n"
     ]
    }
   ],
   "source": [
    "#c\n",
    "print(5 in A)"
   ]
  },
  {
   "cell_type": "code",
   "execution_count": 76,
   "id": "128a64dd",
   "metadata": {},
   "outputs": [
    {
     "name": "stdout",
     "output_type": "stream",
     "text": [
      "Matrix B:\n",
      "[[0 5 6]\n",
      " [4 5 9]\n",
      " [0 0 0]]\n"
     ]
    }
   ],
   "source": [
    "#d\n",
    "A_2 = A\n",
    "A[A < 4] = 0\n",
    "print(\"Matrix B:\")        \n",
    "print(A_2) "
   ]
  },
  {
   "cell_type": "code",
   "execution_count": 77,
   "id": "d2e93e7f",
   "metadata": {},
   "outputs": [
    {
     "name": "stdout",
     "output_type": "stream",
     "text": [
      "4\n"
     ]
    }
   ],
   "source": [
    "#e\n",
    "print(np.count_nonzero(A_2 == 0))"
   ]
  },
  {
   "cell_type": "markdown",
   "id": "d3f1c51e",
   "metadata": {},
   "source": [
    "# EXERCISE 5"
   ]
  },
  {
   "cell_type": "code",
   "execution_count": 78,
   "id": "d189e069",
   "metadata": {},
   "outputs": [],
   "source": [
    "K = 2\n",
    "L = 2\n",
    "A = 1.5\n",
    "a = 0.33 #alpha\n",
    "s = 1 #sigma "
   ]
  },
  {
   "cell_type": "code",
   "execution_count": 79,
   "id": "57ef435c",
   "metadata": {},
   "outputs": [
    {
     "data": {
      "text/plain": [
       "5.456591815922721"
      ]
     },
     "execution_count": 79,
     "metadata": {},
     "output_type": "execute_result"
    }
   ],
   "source": [
    "#a\n",
    "def prod_func(K,L,s,a):\n",
    "    if s == 1:\n",
    "        y = (A*(K**a))*(L**(1-a))\n",
    "        #print(y)\n",
    "    else:\n",
    "        y = A*(a*(K**((s-1)/s))+(1-a)*(L**((s-1)/s)))**(s/(s-1))\n",
    "        #print(y)\n",
    "    return(y)\n",
    "\n",
    "prod_func(3,4,1,a)\n",
    "\n",
    "#double check with calculator values "
   ]
  },
  {
   "cell_type": "code",
   "execution_count": 80,
   "id": "11e8ed59",
   "metadata": {},
   "outputs": [
    {
     "data": {
      "image/png": "[encoded data removed]",
      "text/plain": [
       "<Figure size 640x480 with 1 Axes>"
      ]
     },
     "metadata": {},
     "output_type": "display_data"
    }
   ],
   "source": [
    "#b \n",
    "import matplotlib.pyplot as plt\n",
    "\n",
    "#setup \n",
    "A = 1.5\n",
    "a = 0.33\n",
    "L = 3\n",
    "s = 1\n",
    "\n",
    "G_k = np.linspace(0,10,11) #x \n",
    "\n",
    "\n",
    "y = prod_func(G_k,L,s,a) #y \n",
    "\n",
    "#plotting \n",
    "plt.plot(G_k, y)\n",
    "plt.xlabel(' G_k')\n",
    "plt.ylabel('Y(G_k)')\n",
    "plt.title('Cobb Douglas for 1,...,10')\n",
    "plt.show()"
   ]
  },
  {
   "cell_type": "code",
   "execution_count": 81,
   "id": "87eb1b25",
   "metadata": {},
   "outputs": [
    {
     "data": {
      "image/png": "[encoded data removed]",
      "text/plain": [
       "<Figure size 640x480 with 1 Axes>"
      ]
     },
     "metadata": {},
     "output_type": "display_data"
    }
   ],
   "source": [
    "#c\n",
    "A = 1.5\n",
    "L = 3\n",
    "s = 1\n",
    "#what is an x y plot?\n",
    "\n",
    "#define list of alphas and matrix array to store y values as columns\n",
    "alpha = [0.25, 0.5, 0.75] #a\n",
    "Y = np.zeros((11,3))\n",
    "\n",
    "#store computed y values in array \n",
    "for i in range(0,3):\n",
    "    Y[:,i] =  prod_func(G_k,L,s, alpha[i])\n",
    "\n",
    "#plotting\n",
    "plt.plot(G_k, Y[:,0], color='r', label=alpha[0])\n",
    "plt.plot(G_k, Y[:,1], color='b', label=alpha[1])\n",
    "plt.plot(G_k, Y[:,2], color='g', label=alpha[2])\n",
    "\n",
    "plt.xlabel(\"G_k\")\n",
    "plt.ylabel(\"Y(G_k)\")\n",
    "plt.title(\"Varying alpha\")\n",
    "plt.legend()\n",
    "plt.show()"
   ]
  },
  {
   "cell_type": "code",
   "execution_count": 82,
   "id": "a2e18c2d",
   "metadata": {},
   "outputs": [
    {
     "data": {
      "image/png": "[encoded data removed]",
      "text/plain": [
       "<Figure size 640x480 with 1 Axes>"
      ]
     },
     "metadata": {},
     "output_type": "display_data"
    }
   ],
   "source": [
    "#d\n",
    "import numpy as np\n",
    "#setup \n",
    "A = 1.5\n",
    "a = 0.33\n",
    "L = 3\n",
    "s = 0.33\n",
    "np.seterr(divide = 'ignore') \n",
    "\n",
    "y = prod_func(G_k,L,s,a) #y \n",
    "\n",
    "#plotting \n",
    "plt.plot(G_k, y)\n",
    "plt.xlabel(' G_k')\n",
    "plt.ylabel('Y(G_k)')\n",
    "plt.title('Cobb Douglas for 1,...,10')\n",
    "plt.show()\n",
    "\n"
   ]
  },
  {
   "cell_type": "code",
   "execution_count": 83,
   "id": "56651288",
   "metadata": {
    "scrolled": true
   },
   "outputs": [
    {
     "data": {
      "image/png": "[encoded data removed]",
      "text/plain": [
       "<Figure size 640x480 with 1 Axes>"
      ]
     },
     "metadata": {},
     "output_type": "display_data"
    }
   ],
   "source": [
    "#e\n",
    "\n",
    "a = 0.33\n",
    "L = 3\n",
    "A = 1.5\n",
    "np.seterr(divide = 'ignore') \n",
    "#define list of sigmas and an array to store y values \n",
    "sigma = [0.25, 0.5, 1, 2, 4]\n",
    "Y2 = np.zeros((11,5))\n",
    "\n",
    "#store computed y values in array \n",
    "for i in range(0,5):\n",
    "    Y2[:,i] =  prod_func(G_k,L,sigma[i], a)\n",
    "\n",
    "#plotting\n",
    "\n",
    "for i in range(0,5):\n",
    "    plt.plot(G_k, Y2[:,i], label=sigma[i])\n",
    "\n",
    "plt.xlabel(\"G_k\")\n",
    "plt.ylabel(\"Output\")\n",
    "plt.title(\"Varying sigma\")\n",
    "plt.legend()\n",
    "plt.show()"
   ]
  },
  {
   "attachments": {},
   "cell_type": "markdown",
   "id": "22705098",
   "metadata": {},
   "source": [
    "### 5f:\n",
    "\n",
    "When there is greater substitutability (and therefore a higher value of $\\sigma$ ), it means that a marginal increase in $K$ still has a sizeable effect on $Y$ (even for already high values of $K$). This is the case even when $L$ remains fixed, because one can be a suitable replacement for the other more easily with higher values of $\\sigma$ .\n",
    "\n",
    "The suggestion is that if machines can be effectively and easily replaced by labour, or vice versa (high $\\sigma$ value), having a large amount of one and a small amount of the other is not as much of an impediment to prduction as it would be with poor substitutability (low $\\sigma$  value)."
   ]
  },
  {
   "cell_type": "markdown",
   "id": "dbb91f6b",
   "metadata": {},
   "source": []
  }
 ],
 "metadata": {
  "kernelspec": {
   "display_name": "base",
   "language": "python",
   "name": "python3"
  },
  "language_info": {
   "codemirror_mode": {
    "name": "ipython",
    "version": 3
   },
   "file_extension": ".py",
   "mimetype": "text/x-python",
   "name": "python",
   "nbconvert_exporter": "python",
   "pygments_lexer": "ipython3",
   "version": "3.8.15"
  },
  "vscode": {
   "interpreter": {
    "hash": "45e9faba6d136458d32a029f00b7a2ef346b3546525e3f790d5222a6141d7161"
   }
  }
 },
 "nbformat": 4,
 "nbformat_minor": 5
}
